{
 "cells": [
  {
   "cell_type": "code",
   "execution_count": null,
   "id": "b1b8126d",
   "metadata": {},
   "outputs": [],
   "source": [
    "#import dependencies\n",
    "import matplotlib.pyplot as plt\n",
    "import pandas as pd\n",
    "import numpy as np\n",
    "import requests\n",
    "import time\n",
    "from scipy.stats import linregress\n",
    "from pprint import pprint\n",
    "from api_keys import api_key\n",
    "from data_analysis import weather_api_key"
   ]
  },
  {
   "cell_type": "code",
   "execution_count": null,
   "id": "06b0e99f",
   "metadata": {},
   "outputs": [],
   "source": [
    "api_key = api_key \n",
    "\n",
    "url = \"https://zillow56.p.rapidapi.com/property\"\"\n",
    "\n",
    "querystring = {\"state\":\"TX\",\"page\":\"1\",\"items\":\"20\"}\n",
    "\n",
    "headers = {\n",
    "\t\"content-type\": \"application/octet-stream\",\n",
    "\t\"X-RapidAPI-Key\": api_key,\n",
    "\t\"X-RapidAPI-Host\": \"mashvisor-api.p.rapidapi.com\"\n",
    "}\n",
    "\n",
    "response = requests.get(url, headers=headers, params=querystring).json()"
   ]
  }
 ],
 "metadata": {
  "kernelspec": {
   "display_name": "Python 3 (ipykernel)",
   "language": "python",
   "name": "python3"
  },
  "language_info": {
   "codemirror_mode": {
    "name": "ipython",
    "version": 3
   },
   "file_extension": ".py",
   "mimetype": "text/x-python",
   "name": "python",
   "nbconvert_exporter": "python",
   "pygments_lexer": "ipython3",
   "version": "3.9.13"
  }
 },
 "nbformat": 4,
 "nbformat_minor": 5
}
